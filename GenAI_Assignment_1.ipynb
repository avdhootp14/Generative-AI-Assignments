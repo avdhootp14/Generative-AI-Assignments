{
  "nbformat": 4,
  "nbformat_minor": 0,
  "metadata": {
    "colab": {
      "provenance": []
    },
    "kernelspec": {
      "name": "python3",
      "display_name": "Python 3"
    },
    "language_info": {
      "name": "python"
    }
  },
  "cells": [
    {
      "cell_type": "code",
      "execution_count": null,
      "metadata": {
        "colab": {
          "base_uri": "https://localhost:8080/"
        },
        "id": "cLylyuSYuQjl",
        "outputId": "b297756d-33c6-419a-eaa5-4543eea5a293"
      },
      "outputs": [
        {
          "output_type": "stream",
          "name": "stdout",
          "text": [
            "Generated Text: \n",
            "The main aim of a lot of the same purpose. Cricket is easily one of the use of a pitch in Cricket which allows players each. The main aim of a bat and India. There is particularly famous in England and duration.\n"
          ]
        }
      ],
      "source": [
        "import random\n",
        "\n",
        "text = \"\"\"Cricket is a sport that requires the use of a bat and ball. It is easily one of the most prevalent sports in the world. This game consists of two teams that include 11 players each. The main aim of the game is to score the highest number of runs. It is played on a pitch in a field that is well-maintained for the same purpose. Cricket is particularly famous in England and India. There is a lot of potential in Cricket which allows players to earn well. Cricket does not have one single format but various ones. Similarly, each format has a different set of rules and duration.\"\"\"\n",
        "\n",
        "words = text.split()\n",
        "\n",
        "markov_chain = {}\n",
        "\n",
        "for i in range(len(words) - 1):\n",
        "    word = words[i]\n",
        "    next_word = words[i + 1]\n",
        "    if word not in markov_chain:\n",
        "        markov_chain[word] = []\n",
        "    markov_chain[word].append(next_word)\n",
        "\n",
        "def generate_text(start_word, length=50):\n",
        "    current_word = start_word\n",
        "    generated_text = [current_word]\n",
        "\n",
        "    for _ in range(length - 1):\n",
        "        if current_word not in markov_chain:\n",
        "            break\n",
        "        next_word = random.choice(markov_chain[current_word])\n",
        "        generated_text.append(next_word)\n",
        "        current_word = next_word\n",
        "\n",
        "    return ' '.join(generated_text)\n",
        "\n",
        "start_word = random.choice(words)\n",
        "generated = generate_text(start_word)\n",
        "\n",
        "print(f\"Generated Text: \\n{generated}\")"
      ]
    }
  ]
}